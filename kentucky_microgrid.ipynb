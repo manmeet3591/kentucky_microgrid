{
  "nbformat": 4,
  "nbformat_minor": 0,
  "metadata": {
    "colab": {
      "provenance": []
    },
    "kernelspec": {
      "name": "python3",
      "display_name": "Python 3"
    },
    "language_info": {
      "name": "python"
    }
  },
  "cells": [
    {
      "cell_type": "code",
      "execution_count": 1,
      "metadata": {
        "colab": {
          "base_uri": "https://localhost:8080/"
        },
        "id": "eQI8fhVaCG03",
        "outputId": "4cea5e26-390c-4298-fd8f-8eed5656c43b"
      },
      "outputs": [
        {
          "output_type": "stream",
          "name": "stdout",
          "text": [
            "Mounted at /content/drive\n"
          ]
        }
      ],
      "source": [
        "from google.colab import drive\n",
        "drive.mount('/content/drive')"
      ]
    },
    {
      "cell_type": "code",
      "source": [
        "# var lv = ee.Image(\"projects/sat-io/open-datasets/predictive-global-power-system/lv\");\n",
        "# var targets = ee.Image(\"projects/sat-io/open-datasets/predictive-global-power-system/targets\");\n",
        "# var transmission = ee.FeatureCollection(\"projects/sat-io/open-datasets/predictive-global-power-system/distribution-transmission-lines\");"
      ],
      "metadata": {
        "id": "zKixMAH3CMB1"
      },
      "execution_count": 2,
      "outputs": []
    },
    {
      "cell_type": "code",
      "source": [],
      "metadata": {
        "id": "tVxH_UXdCkgD"
      },
      "execution_count": null,
      "outputs": []
    }
  ]
}